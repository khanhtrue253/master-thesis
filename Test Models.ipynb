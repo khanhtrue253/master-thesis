{
 "cells": [
  {
   "cell_type": "code",
   "execution_count": 1,
   "id": "6ac8fb51-44bb-48c2-9b30-29096a40b1a8",
   "metadata": {},
   "outputs": [
    {
     "name": "stdout",
     "output_type": "stream",
     "text": [
      "sagemaker.config INFO - Not applying SDK defaults from location: /etc/xdg/sagemaker/config.yaml\n",
      "sagemaker.config INFO - Not applying SDK defaults from location: /home/sagemaker-user/.config/sagemaker/config.yaml\n"
     ]
    }
   ],
   "source": [
    "import pandas as pd\n",
    "import boto3\n",
    "import sagemaker\n",
    "import json\n",
    "import joblib\n",
    "import xgboost as xgb\n",
    "from sklearn.metrics import roc_auc_score\n",
    "import numpy as np\n",
    "import pyarrow\n",
    "from math import radians, sin, cos, sqrt, atan2\n",
    "import time\n",
    "import io\n",
    "from io import StringIO\n",
    "import base64\n",
    "import pprint\n",
    "import re\n",
    "from sagemaker.image_uris import retrieve"
   ]
  },
  {
   "cell_type": "code",
   "execution_count": 2,
   "id": "e2a2885c-3155-475b-8641-fd402f69b929",
   "metadata": {},
   "outputs": [],
   "source": [
    "from scipy.stats import norm\n",
    "import statsmodels.api as sm"
   ]
  },
  {
   "cell_type": "code",
   "execution_count": 3,
   "id": "9efa6d6d-8819-4a0d-90dd-0fda7b2a09c2",
   "metadata": {
    "scrolled": true
   },
   "outputs": [
    {
     "name": "stdout",
     "output_type": "stream",
     "text": [
      "Requirement already satisfied: s3fs in /opt/conda/lib/python3.10/site-packages (2024.3.1)\n",
      "Requirement already satisfied: aiobotocore<3.0.0,>=2.5.4 in /opt/conda/lib/python3.10/site-packages (from s3fs) (2.7.0)\n",
      "Collecting fsspec==2024.3.1 (from s3fs)\n",
      "  Using cached fsspec-2024.3.1-py3-none-any.whl.metadata (6.8 kB)\n",
      "Requirement already satisfied: aiohttp!=4.0.0a0,!=4.0.0a1 in /opt/conda/lib/python3.10/site-packages (from s3fs) (3.9.1)\n",
      "Collecting botocore<1.31.65,>=1.31.16 (from aiobotocore<3.0.0,>=2.5.4->s3fs)\n",
      "  Using cached botocore-1.31.64-py3-none-any.whl.metadata (6.1 kB)\n",
      "Requirement already satisfied: wrapt<2.0.0,>=1.10.10 in /opt/conda/lib/python3.10/site-packages (from aiobotocore<3.0.0,>=2.5.4->s3fs) (1.16.0)\n",
      "Requirement already satisfied: aioitertools<1.0.0,>=0.5.1 in /opt/conda/lib/python3.10/site-packages (from aiobotocore<3.0.0,>=2.5.4->s3fs) (0.11.0)\n",
      "Requirement already satisfied: attrs>=17.3.0 in /opt/conda/lib/python3.10/site-packages (from aiohttp!=4.0.0a0,!=4.0.0a1->s3fs) (23.2.0)\n",
      "Requirement already satisfied: multidict<7.0,>=4.5 in /opt/conda/lib/python3.10/site-packages (from aiohttp!=4.0.0a0,!=4.0.0a1->s3fs) (6.0.4)\n",
      "Requirement already satisfied: yarl<2.0,>=1.0 in /opt/conda/lib/python3.10/site-packages (from aiohttp!=4.0.0a0,!=4.0.0a1->s3fs) (1.9.4)\n",
      "Requirement already satisfied: frozenlist>=1.1.1 in /opt/conda/lib/python3.10/site-packages (from aiohttp!=4.0.0a0,!=4.0.0a1->s3fs) (1.4.1)\n",
      "Requirement already satisfied: aiosignal>=1.1.2 in /opt/conda/lib/python3.10/site-packages (from aiohttp!=4.0.0a0,!=4.0.0a1->s3fs) (1.3.1)\n",
      "Requirement already satisfied: async-timeout<5.0,>=4.0 in /opt/conda/lib/python3.10/site-packages (from aiohttp!=4.0.0a0,!=4.0.0a1->s3fs) (4.0.3)\n",
      "Requirement already satisfied: jmespath<2.0.0,>=0.7.1 in /opt/conda/lib/python3.10/site-packages (from botocore<1.31.65,>=1.31.16->aiobotocore<3.0.0,>=2.5.4->s3fs) (1.0.1)\n",
      "Requirement already satisfied: python-dateutil<3.0.0,>=2.1 in /opt/conda/lib/python3.10/site-packages (from botocore<1.31.65,>=1.31.16->aiobotocore<3.0.0,>=2.5.4->s3fs) (2.8.2)\n",
      "Requirement already satisfied: urllib3<2.1,>=1.25.4 in /opt/conda/lib/python3.10/site-packages (from botocore<1.31.65,>=1.31.16->aiobotocore<3.0.0,>=2.5.4->s3fs) (1.26.18)\n",
      "Requirement already satisfied: idna>=2.0 in /opt/conda/lib/python3.10/site-packages (from yarl<2.0,>=1.0->aiohttp!=4.0.0a0,!=4.0.0a1->s3fs) (3.6)\n",
      "Requirement already satisfied: six>=1.5 in /opt/conda/lib/python3.10/site-packages (from python-dateutil<3.0.0,>=2.1->botocore<1.31.65,>=1.31.16->aiobotocore<3.0.0,>=2.5.4->s3fs) (1.16.0)\n",
      "Using cached fsspec-2024.3.1-py3-none-any.whl (171 kB)\n",
      "Using cached botocore-1.31.64-py3-none-any.whl (11.3 MB)\n",
      "\u001b[33mWARNING: Error parsing requirements for fsspec: [Errno 2] No such file or directory: '/opt/conda/lib/python3.10/site-packages/fsspec-2023.6.0.dist-info/METADATA'\u001b[0m\u001b[33m\n",
      "\u001b[0mInstalling collected packages: fsspec, botocore\n",
      "  Attempting uninstall: fsspec\n",
      "\u001b[33m    WARNING: No metadata found in /opt/conda/lib/python3.10/site-packages\u001b[0m\u001b[33m\n",
      "\u001b[0m    Found existing installation: fsspec 2023.6.0\n",
      "\u001b[31mERROR: Cannot uninstall fsspec 2023.6.0, RECORD file not found. You might be able to recover from this via: 'pip install --force-reinstall --no-deps fsspec==2023.6.0'.\u001b[0m\u001b[31m\n",
      "\u001b[0mNote: you may need to restart the kernel to use updated packages.\n"
     ]
    }
   ],
   "source": [
    "pip install s3fs"
   ]
  },
  {
   "cell_type": "code",
   "execution_count": 4,
   "id": "d5d1f3e2-07aa-4eb6-aa2a-3871897d720d",
   "metadata": {},
   "outputs": [
    {
     "name": "stdout",
     "output_type": "stream",
     "text": [
      "Requirement already satisfied: scikit-learn in /opt/conda/lib/python3.10/site-packages (1.3.2)\n",
      "Requirement already satisfied: numpy<2.0,>=1.17.3 in /opt/conda/lib/python3.10/site-packages (from scikit-learn) (1.26.3)\n",
      "Requirement already satisfied: scipy>=1.5.0 in /opt/conda/lib/python3.10/site-packages (from scikit-learn) (1.11.4)\n",
      "Requirement already satisfied: joblib>=1.1.1 in /opt/conda/lib/python3.10/site-packages (from scikit-learn) (1.3.2)\n",
      "Requirement already satisfied: threadpoolctl>=2.0.0 in /opt/conda/lib/python3.10/site-packages (from scikit-learn) (3.2.0)\n",
      "\u001b[33mWARNING: Error parsing requirements for fsspec: [Errno 2] No such file or directory: '/opt/conda/lib/python3.10/site-packages/fsspec-2023.6.0.dist-info/METADATA'\u001b[0m\u001b[33m\n",
      "\u001b[0mNote: you may need to restart the kernel to use updated packages.\n"
     ]
    }
   ],
   "source": [
    "pip install scikit-learn"
   ]
  },
  {
   "cell_type": "code",
   "execution_count": 5,
   "id": "6dced5f5-a235-4e2a-ae2a-b10ccb1ff6af",
   "metadata": {
    "scrolled": true
   },
   "outputs": [
    {
     "name": "stdout",
     "output_type": "stream",
     "text": [
      "Requirement already satisfied: pdpbox in /opt/conda/lib/python3.10/site-packages (0.3.0)\n",
      "Requirement already satisfied: joblib>=1.1.0 in /opt/conda/lib/python3.10/site-packages (from pdpbox) (1.3.2)\n",
      "Requirement already satisfied: matplotlib>=3.6.2 in /opt/conda/lib/python3.10/site-packages (from pdpbox) (3.8.2)\n",
      "Requirement already satisfied: numpy>=1.21.5 in /opt/conda/lib/python3.10/site-packages (from pdpbox) (1.26.3)\n",
      "Requirement already satisfied: pandas>=1.4.4 in /opt/conda/lib/python3.10/site-packages (from pdpbox) (2.1.4)\n",
      "Requirement already satisfied: plotly>=5.9.0 in /opt/conda/lib/python3.10/site-packages (from pdpbox) (5.18.0)\n",
      "Requirement already satisfied: pqdm>=0.2.0 in /opt/conda/lib/python3.10/site-packages (from pdpbox) (0.2.0)\n",
      "Requirement already satisfied: psutil>=5.9.0 in /opt/conda/lib/python3.10/site-packages (from pdpbox) (5.9.8)\n",
      "Requirement already satisfied: pytest in /opt/conda/lib/python3.10/site-packages (from pdpbox) (8.0.0)\n",
      "Requirement already satisfied: scikit-learn>=1.0.2 in /opt/conda/lib/python3.10/site-packages (from pdpbox) (1.3.2)\n",
      "Requirement already satisfied: setuptools in /opt/conda/lib/python3.10/site-packages (from pdpbox) (69.0.3)\n",
      "Requirement already satisfied: sphinx>=5.0.2 in /opt/conda/lib/python3.10/site-packages (from pdpbox) (7.3.7)\n",
      "Requirement already satisfied: sphinx-rtd-theme>=1.1.1 in /opt/conda/lib/python3.10/site-packages (from pdpbox) (2.0.0)\n",
      "Requirement already satisfied: tqdm>=4.64.1 in /opt/conda/lib/python3.10/site-packages (from pdpbox) (4.66.1)\n",
      "Requirement already satisfied: numpydoc>=1.4.0 in /opt/conda/lib/python3.10/site-packages (from pdpbox) (1.7.0)\n",
      "Requirement already satisfied: xgboost>=1.7.1 in /opt/conda/lib/python3.10/site-packages (from pdpbox) (1.7.6)\n",
      "Requirement already satisfied: contourpy>=1.0.1 in /opt/conda/lib/python3.10/site-packages (from matplotlib>=3.6.2->pdpbox) (1.2.0)\n",
      "Requirement already satisfied: cycler>=0.10 in /opt/conda/lib/python3.10/site-packages (from matplotlib>=3.6.2->pdpbox) (0.12.1)\n",
      "Requirement already satisfied: fonttools>=4.22.0 in /opt/conda/lib/python3.10/site-packages (from matplotlib>=3.6.2->pdpbox) (4.47.2)\n",
      "Requirement already satisfied: kiwisolver>=1.3.1 in /opt/conda/lib/python3.10/site-packages (from matplotlib>=3.6.2->pdpbox) (1.4.5)\n",
      "Requirement already satisfied: packaging>=20.0 in /opt/conda/lib/python3.10/site-packages (from matplotlib>=3.6.2->pdpbox) (23.2)\n",
      "Requirement already satisfied: pillow>=8 in /opt/conda/lib/python3.10/site-packages (from matplotlib>=3.6.2->pdpbox) (9.5.0)\n",
      "Requirement already satisfied: pyparsing>=2.3.1 in /opt/conda/lib/python3.10/site-packages (from matplotlib>=3.6.2->pdpbox) (3.1.1)\n",
      "Requirement already satisfied: python-dateutil>=2.7 in /opt/conda/lib/python3.10/site-packages (from matplotlib>=3.6.2->pdpbox) (2.8.2)\n",
      "Requirement already satisfied: tabulate>=0.8.10 in /opt/conda/lib/python3.10/site-packages (from numpydoc>=1.4.0->pdpbox) (0.9.0)\n",
      "Requirement already satisfied: tomli>=1.1.0 in /opt/conda/lib/python3.10/site-packages (from numpydoc>=1.4.0->pdpbox) (2.0.1)\n",
      "Requirement already satisfied: pytz>=2020.1 in /opt/conda/lib/python3.10/site-packages (from pandas>=1.4.4->pdpbox) (2023.3)\n",
      "Requirement already satisfied: tzdata>=2022.1 in /opt/conda/lib/python3.10/site-packages (from pandas>=1.4.4->pdpbox) (2023.4)\n",
      "Requirement already satisfied: tenacity>=6.2.0 in /opt/conda/lib/python3.10/site-packages (from plotly>=5.9.0->pdpbox) (8.2.3)\n",
      "Requirement already satisfied: bounded-pool-executor in /opt/conda/lib/python3.10/site-packages (from pqdm>=0.2.0->pdpbox) (0.0.3)\n",
      "Requirement already satisfied: typing-extensions in /opt/conda/lib/python3.10/site-packages (from pqdm>=0.2.0->pdpbox) (4.5.0)\n",
      "Requirement already satisfied: scipy>=1.5.0 in /opt/conda/lib/python3.10/site-packages (from scikit-learn>=1.0.2->pdpbox) (1.11.4)\n",
      "Requirement already satisfied: threadpoolctl>=2.0.0 in /opt/conda/lib/python3.10/site-packages (from scikit-learn>=1.0.2->pdpbox) (3.2.0)\n",
      "Requirement already satisfied: sphinxcontrib-applehelp in /opt/conda/lib/python3.10/site-packages (from sphinx>=5.0.2->pdpbox) (1.0.8)\n",
      "Requirement already satisfied: sphinxcontrib-devhelp in /opt/conda/lib/python3.10/site-packages (from sphinx>=5.0.2->pdpbox) (1.0.6)\n",
      "Requirement already satisfied: sphinxcontrib-jsmath in /opt/conda/lib/python3.10/site-packages (from sphinx>=5.0.2->pdpbox) (1.0.1)\n",
      "Requirement already satisfied: sphinxcontrib-htmlhelp>=2.0.0 in /opt/conda/lib/python3.10/site-packages (from sphinx>=5.0.2->pdpbox) (2.0.5)\n",
      "Requirement already satisfied: sphinxcontrib-serializinghtml>=1.1.9 in /opt/conda/lib/python3.10/site-packages (from sphinx>=5.0.2->pdpbox) (1.1.10)\n",
      "Requirement already satisfied: sphinxcontrib-qthelp in /opt/conda/lib/python3.10/site-packages (from sphinx>=5.0.2->pdpbox) (1.0.7)\n",
      "Requirement already satisfied: Jinja2>=3.0 in /opt/conda/lib/python3.10/site-packages (from sphinx>=5.0.2->pdpbox) (3.1.3)\n",
      "Requirement already satisfied: Pygments>=2.14 in /opt/conda/lib/python3.10/site-packages (from sphinx>=5.0.2->pdpbox) (2.17.2)\n",
      "Requirement already satisfied: docutils<0.22,>=0.18.1 in /opt/conda/lib/python3.10/site-packages (from sphinx>=5.0.2->pdpbox) (0.20.1)\n",
      "Requirement already satisfied: snowballstemmer>=2.0 in /opt/conda/lib/python3.10/site-packages (from sphinx>=5.0.2->pdpbox) (2.2.0)\n",
      "Requirement already satisfied: babel>=2.9 in /opt/conda/lib/python3.10/site-packages (from sphinx>=5.0.2->pdpbox) (2.14.0)\n",
      "Requirement already satisfied: alabaster~=0.7.14 in /opt/conda/lib/python3.10/site-packages (from sphinx>=5.0.2->pdpbox) (0.7.16)\n",
      "Requirement already satisfied: imagesize>=1.3 in /opt/conda/lib/python3.10/site-packages (from sphinx>=5.0.2->pdpbox) (1.4.1)\n",
      "Requirement already satisfied: requests>=2.25.0 in /opt/conda/lib/python3.10/site-packages (from sphinx>=5.0.2->pdpbox) (2.31.0)\n",
      "Requirement already satisfied: sphinxcontrib-jquery<5,>=4 in /opt/conda/lib/python3.10/site-packages (from sphinx-rtd-theme>=1.1.1->pdpbox) (4.1)\n",
      "Requirement already satisfied: iniconfig in /opt/conda/lib/python3.10/site-packages (from pytest->pdpbox) (2.0.0)\n",
      "Requirement already satisfied: pluggy<2.0,>=1.3.0 in /opt/conda/lib/python3.10/site-packages (from pytest->pdpbox) (1.4.0)\n",
      "Requirement already satisfied: exceptiongroup>=1.0.0rc8 in /opt/conda/lib/python3.10/site-packages (from pytest->pdpbox) (1.2.0)\n",
      "Requirement already satisfied: MarkupSafe>=2.0 in /opt/conda/lib/python3.10/site-packages (from Jinja2>=3.0->sphinx>=5.0.2->pdpbox) (2.1.4)\n",
      "Requirement already satisfied: six>=1.5 in /opt/conda/lib/python3.10/site-packages (from python-dateutil>=2.7->matplotlib>=3.6.2->pdpbox) (1.16.0)\n",
      "Requirement already satisfied: charset-normalizer<4,>=2 in /opt/conda/lib/python3.10/site-packages (from requests>=2.25.0->sphinx>=5.0.2->pdpbox) (3.3.2)\n",
      "Requirement already satisfied: idna<4,>=2.5 in /opt/conda/lib/python3.10/site-packages (from requests>=2.25.0->sphinx>=5.0.2->pdpbox) (3.6)\n",
      "Requirement already satisfied: urllib3<3,>=1.21.1 in /opt/conda/lib/python3.10/site-packages (from requests>=2.25.0->sphinx>=5.0.2->pdpbox) (1.26.18)\n",
      "Requirement already satisfied: certifi>=2017.4.17 in /opt/conda/lib/python3.10/site-packages (from requests>=2.25.0->sphinx>=5.0.2->pdpbox) (2023.11.17)\n",
      "\u001b[33mWARNING: Error parsing requirements for fsspec: [Errno 2] No such file or directory: '/opt/conda/lib/python3.10/site-packages/fsspec-2023.6.0.dist-info/METADATA'\u001b[0m\u001b[33m\n",
      "\u001b[0mNote: you may need to restart the kernel to use updated packages.\n"
     ]
    }
   ],
   "source": [
    "pip install pdpbox"
   ]
  },
  {
   "cell_type": "code",
   "execution_count": 6,
   "id": "418c2929-54ab-4b01-bef8-5fe18880f59e",
   "metadata": {},
   "outputs": [
    {
     "name": "stdout",
     "output_type": "stream",
     "text": [
      "Requirement already satisfied: seaborn in /opt/conda/lib/python3.10/site-packages (0.13.2)\n",
      "Requirement already satisfied: numpy!=1.24.0,>=1.20 in /opt/conda/lib/python3.10/site-packages (from seaborn) (1.26.3)\n",
      "Requirement already satisfied: pandas>=1.2 in /opt/conda/lib/python3.10/site-packages (from seaborn) (2.1.4)\n",
      "Requirement already satisfied: matplotlib!=3.6.1,>=3.4 in /opt/conda/lib/python3.10/site-packages (from seaborn) (3.8.2)\n",
      "Requirement already satisfied: contourpy>=1.0.1 in /opt/conda/lib/python3.10/site-packages (from matplotlib!=3.6.1,>=3.4->seaborn) (1.2.0)\n",
      "Requirement already satisfied: cycler>=0.10 in /opt/conda/lib/python3.10/site-packages (from matplotlib!=3.6.1,>=3.4->seaborn) (0.12.1)\n",
      "Requirement already satisfied: fonttools>=4.22.0 in /opt/conda/lib/python3.10/site-packages (from matplotlib!=3.6.1,>=3.4->seaborn) (4.47.2)\n",
      "Requirement already satisfied: kiwisolver>=1.3.1 in /opt/conda/lib/python3.10/site-packages (from matplotlib!=3.6.1,>=3.4->seaborn) (1.4.5)\n",
      "Requirement already satisfied: packaging>=20.0 in /opt/conda/lib/python3.10/site-packages (from matplotlib!=3.6.1,>=3.4->seaborn) (23.2)\n",
      "Requirement already satisfied: pillow>=8 in /opt/conda/lib/python3.10/site-packages (from matplotlib!=3.6.1,>=3.4->seaborn) (9.5.0)\n",
      "Requirement already satisfied: pyparsing>=2.3.1 in /opt/conda/lib/python3.10/site-packages (from matplotlib!=3.6.1,>=3.4->seaborn) (3.1.1)\n",
      "Requirement already satisfied: python-dateutil>=2.7 in /opt/conda/lib/python3.10/site-packages (from matplotlib!=3.6.1,>=3.4->seaborn) (2.8.2)\n",
      "Requirement already satisfied: pytz>=2020.1 in /opt/conda/lib/python3.10/site-packages (from pandas>=1.2->seaborn) (2023.3)\n",
      "Requirement already satisfied: tzdata>=2022.1 in /opt/conda/lib/python3.10/site-packages (from pandas>=1.2->seaborn) (2023.4)\n",
      "Requirement already satisfied: six>=1.5 in /opt/conda/lib/python3.10/site-packages (from python-dateutil>=2.7->matplotlib!=3.6.1,>=3.4->seaborn) (1.16.0)\n",
      "\u001b[33mWARNING: Error parsing requirements for fsspec: [Errno 2] No such file or directory: '/opt/conda/lib/python3.10/site-packages/fsspec-2023.6.0.dist-info/METADATA'\u001b[0m\u001b[33m\n",
      "\u001b[0mNote: you may need to restart the kernel to use updated packages.\n"
     ]
    }
   ],
   "source": [
    "pip install seaborn"
   ]
  },
  {
   "cell_type": "code",
   "execution_count": 7,
   "id": "0d82eb18-d63b-45b5-974a-d9a0850421c5",
   "metadata": {},
   "outputs": [
    {
     "name": "stdout",
     "output_type": "stream",
     "text": [
      "sagemaker.config INFO - Not applying SDK defaults from location: /etc/xdg/sagemaker/config.yaml\n",
      "sagemaker.config INFO - Not applying SDK defaults from location: /home/sagemaker-user/.config/sagemaker/config.yaml\n",
      "sagemaker.config INFO - Not applying SDK defaults from location: /etc/xdg/sagemaker/config.yaml\n",
      "sagemaker.config INFO - Not applying SDK defaults from location: /home/sagemaker-user/.config/sagemaker/config.yaml\n"
     ]
    }
   ],
   "source": [
    "sess = sagemaker.Session()\n",
    "write_bucket = sess.default_bucket()\n",
    "write_prefix = \"search-algorithm-demo\"\n",
    "\n",
    "region = sess.boto_region_name\n",
    "s3_client = boto3.client(\"s3\", region_name=region)\n",
    "sm_client = boto3.client(\"sagemaker\", region_name=region)\n",
    "sm_runtime_client = boto3.client(\"sagemaker-runtime\")\n",
    "sm_autoscaling_client = boto3.client(\"application-autoscaling\")\n",
    "\n",
    "sagemaker_role = sagemaker.get_execution_role()"
   ]
  },
  {
   "cell_type": "code",
   "execution_count": 8,
   "id": "14688db9-a7a0-44f5-bca8-a7bda8a84e22",
   "metadata": {},
   "outputs": [],
   "source": [
    "def read_glue_table(database_name, table_name):\n",
    "    # Create Glue client\n",
    "    glue_client = boto3.client('glue')\n",
    "\n",
    "    # Get the Glue table metadata\n",
    "    response = glue_client.get_table(DatabaseName=database_name, Name=table_name)\n",
    "    location = response['Table']['StorageDescriptor']['Location']\n",
    "\n",
    "    # Read data from the Glue table into a Pandas DataFrame\n",
    "    try:\n",
    "        df = pd.read_parquet(location)\n",
    "        if df.empty:\n",
    "            raise ValueError(\"CSV file is empty\")\n",
    "        return df\n",
    "    except Exception as e:\n",
    "        print(f\"Error reading CSV file: {e}\")\n",
    "        return None"
   ]
  },
  {
   "cell_type": "code",
   "execution_count": 9,
   "id": "1f509371-040d-482a-8c3e-60b316bed9c3",
   "metadata": {},
   "outputs": [],
   "source": [
    "df_nl_tutor = read_glue_table('algorithm_search', 'nl_tutor')\n",
    "df_nl_student = read_glue_table('algorithm_search', 'nl_student')\n",
    "df_nl_relations = read_glue_table('algorithm_search', 'student_tutor')\n",
    "\n",
    "df = df_nl_relations.merge(df_nl_tutor, how='left', on=['tutor'])\n",
    "df = df.rename(columns={'registration_date': 'tutor_registration_date', 'city': 'tutor_city', 'heard_about': 'tutor_heard_about','latitude': 'tutor_latitude',\n",
    "                       'longitude': 'tutor_longitude'}) \n",
    "df = df.merge(df_nl_student, how='left', left_on='student', right_on='student_id')\n",
    "df = df.rename(columns={'city': 'student_city', 'heard_about': 'student_heard_about',\n",
    "                        'latitude': 'student_latitude', 'longitude': 'student_longitude'})\n",
    "df = df.drop(columns = {'last_active_at_x', 'country_x', 'state_x', 'last_active_at_y', 'country_y', 'state_y', 'student_id', 'registration_date'})"
   ]
  },
  {
   "cell_type": "code",
   "execution_count": 10,
   "id": "5668f753-6148-4218-8708-3f73b77fa7c3",
   "metadata": {},
   "outputs": [],
   "source": [
    "df['student'] = df['student'].astype('str')\n",
    "\n",
    "df['tutor'] = df['tutor'].astype('str')\n",
    "\n",
    "df['course'] = df['course'].astype('str')\n",
    "\n",
    "df['matched'] = df['matched'].astype('bool')\n",
    "\n",
    "df['tutor_city'] = df['tutor_city'].astype('str')\n",
    "\n",
    "df['tutor_accepts_new_students'] = df['tutor_accepts_new_students'].astype('bool')\n",
    "\n",
    "df['tutor_can_teach_online'] = df['tutor_can_teach_online'].astype('bool')\n",
    "\n",
    "df['tutor_has_availability'] = df['tutor_has_availability'].astype('bool')\n",
    "\n",
    "df['tutor_course_offerings_count'] = pd.to_numeric(df['tutor_course_offerings_count'], errors='coerce')\n",
    "zero_count_rows = df[df['tutor_course_offerings_count'].isna()]\n",
    "count_courses_by_tutor = df.groupby('tutor')['course'].nunique()\n",
    "df.loc[zero_count_rows.index, 'tutor_course_offerings_count'] = zero_count_rows['tutor'].map(count_courses_by_tutor)\n",
    "df['tutor_course_offerings_count'] = df['tutor_course_offerings_count'].astype('int64')\n",
    "\n",
    "df['tutor_intake_date'] = pd.to_datetime(df['tutor_intake_date'])\n",
    "df['tutor_intake_date'] = df['tutor_intake_date'].dt.tz_localize(None)\n",
    "\n",
    "df['student_city'] = df['student_city'].astype('str')\n",
    "\n",
    "df['has_online_lessons'] = df['has_online_lessons'].astype('category')\n",
    "\n",
    "df['has_package'] = df['has_package'].astype('bool')\n",
    "\n",
    "df['tutor_type'] = df['tutor_type'].astype('category')\n",
    "\n",
    "df['previous_lesson'] = df['previous_lesson'].astype('bool')"
   ]
  },
  {
   "cell_type": "code",
   "execution_count": 11,
   "id": "00fb6faa-e415-4b67-80d0-59a16b099550",
   "metadata": {},
   "outputs": [],
   "source": [
    "def haversine(lat1, lon1, lat2, lon2):\n",
    "    # Convert latitude and longitude from degrees to radians\n",
    "    lat1 = radians(lat1)\n",
    "    lon1 = radians(lon1)\n",
    "    lat2 = radians(lat2)\n",
    "    lon2 = radians(lon2)\n",
    "\n",
    "    # Haversine formula\n",
    "    dlon = lon2 - lon1\n",
    "    dlat = lat2 - lat1\n",
    "    a = sin(dlat / 2)**2 + cos(lat1) * cos(lat2) * sin(dlon / 2)**2\n",
    "    c = 2 * atan2(sqrt(a), sqrt(1 - a))\n",
    "    distance = 6371 * c  # Radius of the Earth in kilometers\n",
    "\n",
    "    return distance\n",
    "\n",
    "#Only cases for that country\n",
    "df.replace('nan', np.nan, inplace=True)\n",
    "df = df.dropna(subset=['student_city', 'tutor_city'])\n",
    "df = df.drop_duplicates()\n",
    "\n",
    "#Distance\n",
    "df['distance'] = np.where(df.apply(lambda row: haversine(row['student_latitude'], row['student_longitude'], row['tutor_latitude'], row['tutor_longitude']), axis=1) > df['tutor_max_travel_distance'], 0,\n",
    "                         round(df.apply(lambda row: haversine(row['student_latitude'], row['student_longitude'], row['tutor_latitude'], row['tutor_longitude']), axis=1), 2))        \n",
    "\n",
    "#Days since intake when matching\n",
    "df['tutor_intake_date'] = pd.to_datetime(df['tutor_intake_date'])\n",
    "df['tutor_days_since_intake'] = np.where(df['tutor_intake_date'].notnull(), (df['matching_date'] - df['tutor_intake_date']).dt.days, 10000)\n",
    "\n",
    "#Fill missing value\n",
    "df['student_heard_about'] = df['student_heard_about'].fillna(\"Not provided\")\n",
    "df['tutor_first_lesson_date'] = df['tutor_first_lesson_date'].fillna(df.matching_date)\n",
    "df['tutor_manual_weight'] = df['tutor_manual_weight'].fillna(1.0)\n",
    "\n",
    "\n",
    "#Process new variables\n",
    "df['tutor_days_to_first_lesson'] = (df['tutor_first_lesson_date'] - df['tutor_registration_date']).dt.days\n",
    "\n",
    "df['avg_lesson_per_student'] = np.where((df['tutor_total_accepted_lessons'] != 0) & (df['tutor_previous_number_of_students'] != 0), df['tutor_total_accepted_lessons'].astype(float) / df['tutor_previous_number_of_students'].astype(float), 1)\n",
    "\n",
    "df['tutor_actual_cancellations'] = df['tutor_total_appointment_requests'] - df['tutor_total_accepted_lessons'] - df['tutor_cancellations']\n",
    "df['tutor_actual_cancellations'] = df['tutor_actual_cancellations'].apply(lambda x: max(0, x))\n",
    "\n",
    "df['lessons_per_relation'] = np.where(df['number_of_relations'] > 0, df['tutor_total_accepted_lessons'] / df['number_of_relations'], 0)"
   ]
  },
  {
   "cell_type": "code",
   "execution_count": 12,
   "id": "b96ea5fc-6c7e-4323-a791-a8361b951d1a",
   "metadata": {},
   "outputs": [],
   "source": [
    "df = df[((df['tutor_total_appointment_requests'] != 0) & (df['tutor_average_duration'] != 0)) | ((df['tutor_total_appointment_requests'] == 0) & (df['tutor_average_duration'] == 0) & (df['tutor_previous_number_of_students'] == 0))]\n",
    "df = df.dropna(subset=['has_online_lessons'])\n",
    "df = df.loc[df.groupby(['student', 'tutor', 'course', 'matched'])['has_online_lessons'].idxmax()].reset_index(drop=True)\n",
    "df = df.loc[df.groupby(['student', 'tutor', 'course', 'matched'])['matching_date'].idxmax()].reset_index(drop=True)"
   ]
  },
  {
   "cell_type": "code",
   "execution_count": 13,
   "id": "de4d58b5-b4cd-4906-afaa-0030fc5f40ac",
   "metadata": {},
   "outputs": [],
   "source": [
    "#multiplier to process the old ranking formula\n",
    "df['first_multiplier_lessons'] = (np.where(df['tutor_total_accepted_lessons'] > 50, 2, 1)) * \\\n",
    "                                  (np.where(df['tutor_total_accepted_lessons'] > 70, 2, 1)) * \\\n",
    "                                  (np.where(df['tutor_total_accepted_lessons'] > 100, 2, 1)) * \\\n",
    "                                  (np.where(df['tutor_total_accepted_lessons'] > 140, 2, 1)) * \\\n",
    "                                  (np.where(df['tutor_total_accepted_lessons'] > 210, 2, 1)) * \\\n",
    "                                  (np.where(df['tutor_total_accepted_lessons'] > 280, 2, 1)) * \\\n",
    "                                  (np.where(df['tutor_total_accepted_lessons'] > 330, 2, 1)) * \\\n",
    "                                  (np.where(df['tutor_total_accepted_lessons'] > 400, 2, 1))\n",
    "\n",
    "conditions = [\n",
    "    (df['tutor_previous_number_of_students'] == 0) & (df['number_of_relations'] < 3),\n",
    "    (df['tutor_previous_number_of_students'] == 1) & (df['tutor_total_accepted_lessons'] == 1),\n",
    "    (df['tutor_previous_number_of_students'] != 0) \n",
    "]\n",
    "choices = [\n",
    "    4,\n",
    "    1,\n",
    "    (((df['tutor_total_accepted_lessons'] / df['tutor_previous_number_of_students']) ** 2) / (df['tutor_previous_number_of_students'] ** 2.2)) * df['first_multiplier_lessons']\n",
    "]\n",
    "default = 0\n",
    "\n",
    "df['first_multiplier'] = np.select(conditions, choices, default)\n",
    "df['first_multiplier'] = np.sqrt(df['first_multiplier'])\n",
    "\n",
    "df['second_multiplier'] = np.where(df['number_of_relations'] > 0, (1 + df['tutor_previous_number_of_students'])/df['number_of_relations'], 1.4)\n",
    "df['third_multiplier'] = np.where(df['tutor_has_availability'] == True, 1.2, 0.8)\n",
    "df['fourth_multiplier'] = np.where((df['tutor_previous_number_of_students'] == 0) & (df['number_of_relations'] < 3) & (df['tutor_days_since_intake'] < 38), 8, 1)\n",
    "df['offline_multiplier'] = 2.2 * np.where(df['tutor_type'] == 1, 1, 1.3) + 1\n",
    "\n",
    "#Ranking score\n",
    "df['tutor_manual_weight'] = df['tutor_manual_weight'].fillna(1)\n",
    "df['online_rank_score'] = df['first_multiplier'] * df['second_multiplier'] * df['third_multiplier'] * df['fourth_multiplier'] * df['tutor_manual_weight']\n",
    "df['offline_rank_score'] = df['first_multiplier'] * df['second_multiplier'] * df['third_multiplier'] * df['fourth_multiplier'] * df['tutor_manual_weight']/df['offline_multiplier']\n",
    "df['old_formula'] = np.where(df['has_online_lessons'] != 1, df['offline_rank_score'], df['online_rank_score']) \n",
    "\n",
    "#Drop unecessary columns\n",
    "df = df.drop(columns=['tutor_registration_date', 'tutor_first_lesson_date', 'matching_date', 'student_longitude', 'student_latitude', 'tutor_latitude', 'tutor_longitude', 'tutor_intake_date', 'tutor_manual_weight', 'student_heard_about'])\n",
    "df = df.drop(columns=['first_multiplier', 'first_multiplier_lessons', 'second_multiplier', 'third_multiplier', 'fourth_multiplier', 'offline_multiplier', 'online_rank_score', 'offline_rank_score', 'tutor_days_since_intake'])\n",
    "df = df.drop(columns=['tutor_city', 'student_city', 'tutor_total_appointment_requests', 'student_previous_lessons', 'student_total_accepted_intro_lessons', 'has_online_lessons', 'has_package'])\n",
    "df = df.drop(columns=['tutor_course_appointment_requests', 'student_total_intro_requests', 'tutor_course_previous_number_of_students', 'tutor_cancellations', 'number_of_relations', 'student_tutor_has_intro'])"
   ]
  },
  {
   "cell_type": "code",
   "execution_count": 14,
   "id": "c436c49f-ce06-4617-bf33-cd4f10461e19",
   "metadata": {},
   "outputs": [],
   "source": [
    "instrumental_formula = 'matched ~ student_average_duration + created_deals + availabile_hours + online_lesson_rate:tutor_can_teach_online + tutor_accepts_new_students + tutor_max_travel_distance:distance + tutor_course_offerings_count + old_formula + tutor_type + previous_lesson'\n",
    "\n",
    "probit_model = sm.GLM.from_formula(formula=instrumental_formula, data=df, family=sm.families.Binomial(link=sm.families.links.Probit()))\n",
    "probit_result = probit_model.fit()\n",
    "predicted_probabilities = probit_result.predict(df)\n",
    "probit_lp = probit_result.fittedvalues\n",
    "mills_ratio = np.exp(-0.5 * probit_lp ** 2) / (np.sqrt(2 * np.pi) * predicted_probabilities)\n",
    "inverse_mills_ratio = 1 / mills_ratio\n",
    "df['inverse_mills_ratio'] = inverse_mills_ratio"
   ]
  },
  {
   "cell_type": "code",
   "execution_count": 15,
   "id": "29d82ab3-1c7e-4627-a190-dbba65ec908d",
   "metadata": {},
   "outputs": [],
   "source": [
    "import sklearn\n",
    "from sklearn.model_selection import train_test_split, KFold, RandomizedSearchCV, GridSearchCV, StratifiedShuffleSplit, StratifiedKFold\n",
    "from sklearn.compose import ColumnTransformer\n",
    "from sklearn.pipeline import Pipeline\n",
    "from sklearn.preprocessing import OneHotEncoder, StandardScaler, PolynomialFeatures, FunctionTransformer\n",
    "from sklearn.feature_selection import VarianceThreshold\n",
    "from sklearn.linear_model import PoissonRegressor, ElasticNet\n",
    "from statsmodels.genmod.families import Poisson\n",
    "from sklearn.ensemble import RandomForestRegressor\n",
    "from sklearn.metrics import make_scorer, mean_squared_error, mean_absolute_error, r2_score, recall_score, accuracy_score\n",
    "from sklearn.inspection import PartialDependenceDisplay\n",
    "from xgboost import XGBRegressor, XGBClassifier\n",
    "from xgboost import callback\n",
    "import matplotlib.pyplot as plt\n",
    "import seaborn as sns\n",
    "from sklearn.neighbors import KNeighborsClassifier, KNeighborsRegressor\n",
    "from sklearn.neural_network import MLPRegressor"
   ]
  },
  {
   "cell_type": "code",
   "execution_count": 16,
   "id": "7838721a-5db1-4754-93e4-a8402f6fd960",
   "metadata": {},
   "outputs": [],
   "source": [
    "###Uncomment to remove outliers###\n",
    "##If you no longer want to run code without outliers, run the above code from the top again##\n",
    "\n",
    "mean = np.mean(df['tutor_student_number_of_lessons'])\n",
    "std_dev = 2.5 * np.std(df['tutor_student_number_of_lessons'])\n",
    "df = df[df['tutor_student_number_of_lessons'].between(mean - std_dev, mean + std_dev)]\n",
    "\n",
    "X = df.drop(columns=['tutor_student_number_of_lessons', 'student', 'tutor', 'course', 'matched'])\n",
    "y = df['tutor_student_number_of_lessons']\n",
    "X_train, X_test, y_train, y_test = train_test_split(X, y, test_size=0.3, random_state = 2503)\n",
    "kf = KFold(n_splits=5, shuffle=True, random_state=1900561252)\n",
    "folds = []\n",
    "for train_index, val_index in kf.split(X_train):\n",
    "    folds.append((train_index, val_index))\n",
    "\n",
    "def poisson_loss(y_true, y_pred):\n",
    "    return np.mean(y_pred - y_true * np.log(y_pred))\n",
    "\n",
    "def rmse_scorer(y_true, y_pred):\n",
    "    return np.sqrt(np.mean((y_true - y_pred)**2))\n",
    "\n",
    "scorer = make_scorer(rmse_scorer, greater_is_better=False)\n",
    "\n",
    "##For testing whether count data is better\n",
    "#scorer = make_scorer(poisson_loss, greater_is_better = False)"
   ]
  }
 ],
 "metadata": {
  "kernelspec": {
   "display_name": "Python 3 (ipykernel)",
   "language": "python",
   "name": "python3"
  },
  "language_info": {
   "codemirror_mode": {
    "name": "ipython",
    "version": 3
   },
   "file_extension": ".py",
   "mimetype": "text/x-python",
   "name": "python",
   "nbconvert_exporter": "python",
   "pygments_lexer": "ipython3",
   "version": "3.10.13"
  }
 },
 "nbformat": 4,
 "nbformat_minor": 5
}
